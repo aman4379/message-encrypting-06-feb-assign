{
 "cells": [
  {
   "cell_type": "code",
   "execution_count": null,
   "id": "2caae536-84cd-4b41-9fdb-4dd6bf220eb9",
   "metadata": {},
   "outputs": [],
   "source": [
    "Q1. Create a function which will take a list as an argument and return the product of all the numbers\n",
    "after creating a flat list.\n",
    "Use the below-given list as an argument for your function.\n",
    "list1 = [1,2,3,4, [44,55,66, True], False, (34,56,78,89,34), {1,2,3,3,2,1}, {1:34, \"key2\": [55, 67, 78, 89],\n",
    "4: (45,22, 61, 34)}, [56, 'data science'], 'Machine Learning']\n",
    "Note: you must extract numeric keys and values of the dictionary also."
   ]
  },
  {
   "cell_type": "code",
   "execution_count": 3,
   "id": "3bbcf2e1-7637-4035-87c6-1eb5b03ce6d2",
   "metadata": {},
   "outputs": [],
   "source": [
    "list1 = [1,2,3,4, [44,55,66, True], False, (34,56,78,89,34), {1,2,3,3,2,1},\n",
    "         {1:34, \"key2\": [55, 67, 78, 89], 4: (45,22, 61, 34)}, [56, 'data science'], 'Machine Learning']"
   ]
  },
  {
   "cell_type": "code",
   "execution_count": 40,
   "id": "11605db6-70f4-4208-8fea-de776447a403",
   "metadata": {},
   "outputs": [
    {
     "name": "stdout",
     "output_type": "stream",
     "text": [
      "[1, 2, 3, 4, 44, 55, 66, 34, 56, 78, 89, 34, 1, 2, 3, 1, 4, 34, 55, 67, 78, 89, 45, 22, 61, 34, 56]\n"
     ]
    },
    {
     "data": {
      "text/plain": [
       "4134711838987085478833841242112000"
      ]
     },
     "execution_count": 40,
     "metadata": {},
     "output_type": "execute_result"
    }
   ],
   "source": [
    "l=[]\n",
    "for i in list1:\n",
    "    if(isinstance(i,int) and i is not True and i is not False):\n",
    "            l.append(i)\n",
    "    elif(isinstance(i,list) or isinstance(i,tuple) or isinstance(i,set)):\n",
    "        for j in i:\n",
    "            if(isinstance(j,int)and j is not True and j is not False):\n",
    "                    l.append(j)\n",
    "    elif(isinstance(i,dict)):\n",
    "        m=list(i.keys())\n",
    "        for j in m:\n",
    "            if(isinstance(j,int)and j is not True and j is not False):\n",
    "                    l.append(j)\n",
    "            elif(isinstance(j,list) or isinstance(j,tuple) or isinstance(j,set)):\n",
    "                for k in j:\n",
    "                    if(isinstance(k,int)and k is not True and k is not False):\n",
    "                             l.append(k)\n",
    "        n=list(i.values())\n",
    "        for j in n:\n",
    "            if(isinstance(j,int)and j is not True and j is not False):\n",
    "                    l.append(j)\n",
    "            elif(isinstance(j,list) or isinstance(j,tuple) or isinstance(j,set)):\n",
    "                for k in j:\n",
    "                    if(isinstance(k,int)and k is not True and k is not False):\n",
    "                             l.append(k)\n",
    "print(l)\n",
    "a= lambda x,y:x*y\n",
    "from functools import reduce\n",
    "reduce(a,l)"
   ]
  },
  {
   "cell_type": "code",
   "execution_count": null,
   "id": "01d31c6a-0fd3-4fde-913b-66800c7646e3",
   "metadata": {},
   "outputs": [],
   "source": [
    "Q2. Write a python program for encrypting a message sent to you by your friend. The logic of encryption\n",
    "should be such that, for a the output should be z. For b, the output should be y. For c, the output should\n",
    "be x respectively. Also, the whitespace should be replaced with a dollar sign. Keep the punctuation\n",
    "marks unchanged.\n",
    "Input Sentence: I want to become a Data Scientist.\n",
    "Encrypt the above input sentence using the program you just created.\n",
    "Note: Convert the given input sentence into lowercase before encrypting. The final output should be\n",
    "lowercase."
   ]
  },
  {
   "cell_type": "code",
   "execution_count": 69,
   "id": "6a935133-7f72-45df-8edc-5fe19706c2e3",
   "metadata": {},
   "outputs": [
    {
     "name": "stdout",
     "output_type": "stream",
     "text": [
      "i want to become a data scientist.\n"
     ]
    },
    {
     "data": {
      "text/plain": [
       "'r$dzmg$gl$yvxlnv$z$wzgz$hxrvmgrhg.'"
      ]
     },
     "execution_count": 69,
     "metadata": {},
     "output_type": "execute_result"
    }
   ],
   "source": [
    "st ='I want to become a Data Scientist.'\n",
    "st = st.lower()\n",
    "print(st)\n",
    "tb = {97:122,98:121,99:120,100:119,101:118,102:117,103:116,104:115,105:114,106:113,107:112,108:111,109:110,\n",
    "      110:109,111:108,112:107,113:106,114:105,115:104,116:103,117:102,118:101,119:100,120:99,121:98,122:97,32:36}\n",
    "st=st.translate(tb)\n",
    "st\n",
    "    "
   ]
  }
 ],
 "metadata": {
  "kernelspec": {
   "display_name": "Python 3 (ipykernel)",
   "language": "python",
   "name": "python3"
  },
  "language_info": {
   "codemirror_mode": {
    "name": "ipython",
    "version": 3
   },
   "file_extension": ".py",
   "mimetype": "text/x-python",
   "name": "python",
   "nbconvert_exporter": "python",
   "pygments_lexer": "ipython3",
   "version": "3.10.8"
  }
 },
 "nbformat": 4,
 "nbformat_minor": 5
}
